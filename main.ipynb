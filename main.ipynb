{
 "cells": [
  {
   "cell_type": "markdown",
   "id": "cd8af089",
   "metadata": {},
   "source": [
    "# Self-Driving Car using Deep Reinforcement Learning, DDPG and pretrained models"
   ]
  },
  {
   "cell_type": "markdown",
   "id": "deed960d",
   "metadata": {},
   "source": [
    "## Download datasets and preprocessing data"
   ]
  },
  {
   "cell_type": "code",
   "execution_count": null,
   "id": "e9b453eb",
   "metadata": {},
   "outputs": [
    {
     "name": "stdout",
     "output_type": "stream",
     "text": [
      "Downloading from https://www.kaggle.com/api/v1/datasets/download/solesensei/solesensei_bdd100k?dataset_version_number=2...\n"
     ]
    },
    {
     "name": "stderr",
     "output_type": "stream",
     "text": [
      " 11%|█         | 844M/7.61G [08:36<1:05:58, 1.84MB/s] "
     ]
    }
   ],
   "source": [
    "# Download dataset\n",
    "import kagglehub\n",
    "import os\n",
    "# Download latest version\n",
    "dataset_dir = \"./datasets\"\n",
    "path = kagglehub.dataset_download(\"solesensei/solesensei_bdd100k\", force_download=True)\n",
    "\n",
    "print(\"Path to dataset files:\", path)"
   ]
  }
 ],
 "metadata": {
  "kernelspec": {
   "display_name": "research-venv",
   "language": "python",
   "name": "python3"
  },
  "language_info": {
   "codemirror_mode": {
    "name": "ipython",
    "version": 3
   },
   "file_extension": ".py",
   "mimetype": "text/x-python",
   "name": "python",
   "nbconvert_exporter": "python",
   "pygments_lexer": "ipython3",
   "version": "3.12.3"
  }
 },
 "nbformat": 4,
 "nbformat_minor": 5
}
